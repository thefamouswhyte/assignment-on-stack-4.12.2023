{
 "cells": [
  {
   "cell_type": "code",
   "execution_count": null,
   "id": "ad43385e",
   "metadata": {},
   "outputs": [],
   "source": [
    "\n",
    "study stack or area plot and when to use em\n",
    "study sub plot and when to use em\n",
    "study pandas (next topic)"
   ]
  },
  {
   "cell_type": "markdown",
   "id": "0d57e289",
   "metadata": {},
   "source": [
    "# study the difference between correlation and causation and when to use it"
   ]
  },
  {
   "cell_type": "markdown",
   "id": "01fc872d",
   "metadata": {},
   "source": [
    "# CORRELATION"
   ]
  },
  {
   "cell_type": "code",
   "execution_count": null,
   "id": "f9942424",
   "metadata": {},
   "outputs": [],
   "source": [
    "# the numpy corrcoeff() function is used to calculate the numpy correlation coefficient between two one-dimentional data points.\n",
    "#the relationship between the specified features of the dataset is indicated by the correlation coefficient, which is a \n",
    "# numerical value"
   ]
  },
  {
   "cell_type": "code",
   "execution_count": 3,
   "id": "e20464af",
   "metadata": {},
   "outputs": [
    {
     "name": "stdout",
     "output_type": "stream",
     "text": [
      "[[1.         0.82490472]\n",
      " [0.82490472 1.        ]]\n"
     ]
    }
   ],
   "source": [
    "# Use of NumPy corrcoeff() in NumPy\n",
    "# Importing NumPy Library\n",
    "import numpy as np\n",
    "\n",
    "    # Input array 1\n",
    "a=np.arange(20,30)\n",
    "\n",
    "    # input array 2\n",
    "b=np.array([6,11,28,33,59,47,19,44,79,96])\n",
    "\n",
    "    # Using the NumPy corrcoeff() function\n",
    "    # To calculate Pearson's correlation coefficient\n",
    "x=np.corrcoef(a,b)\n",
    "\n",
    "    # Printing the correlation coefficients:\n",
    "print(x)"
   ]
  },
  {
   "cell_type": "code",
   "execution_count": null,
   "id": "5e67a733",
   "metadata": {},
   "outputs": [],
   "source": [
    "# Computing correlation using NumPy correlate()\n",
    "# Another alternative to NumPy corrcoeff() is the NumPy correlate(), \n",
    "# which helps us to find the cross-correlation of two one-dimensional arrays. This is widely used in signal processing."
   ]
  },
  {
   "cell_type": "code",
   "execution_count": 4,
   "id": "71b025b3",
   "metadata": {},
   "outputs": [
    {
     "name": "stdout",
     "output_type": "stream",
     "text": [
      "[8.5]\n"
     ]
    }
   ],
   "source": [
    "# Importing NumPy Library\n",
    "import numpy as np\n",
    "\n",
    "    # Input array 1\n",
    "a = [2, 5, 7]\n",
    "    # Input array 2\n",
    "v = [0, 1, 0.5]\n",
    "\n",
    "corr = np.correlate(a, v)\n",
    "\n",
    "    # Printing the correlation coefficient:\n",
    "print(corr)"
   ]
  },
  {
   "cell_type": "code",
   "execution_count": 5,
   "id": "d9cc7741",
   "metadata": {},
   "outputs": [],
   "source": [
    "# Using Correlation with Matplotlib and Making Correlation Graphs\n",
    "# Using the matplotlib library,\n",
    "# we'll visualize the numpy correlation and find out if it is a positive or negative numpy correlation."
   ]
  },
  {
   "cell_type": "code",
   "execution_count": 7,
   "id": "64cf74b0",
   "metadata": {},
   "outputs": [
    {
     "data": {
      "image/png": "[encoded data removed]",
      "text/plain": [
       "<Figure size 640x480 with 1 Axes>"
      ]
     },
     "metadata": {},
     "output_type": "display_data"
    }
   ],
   "source": [
    "# Importing NumPy Library\n",
    "import numpy as np\n",
    "    # Importing Matplotlib\n",
    "import matplotlib.pyplot as plt\n",
    "\n",
    "    # Input array 1\n",
    "a=np.arange(20,30)\n",
    "\n",
    "    # input array 2\n",
    "b=np.array([6,11,28,33,59,47,19,44,79,96])\n",
    "\n",
    "    # Using the NumPy corrcoeff() function\n",
    "    # To calculate Pearson's correlation coefficient\n",
    "x=np.corrcoef(a,b)\n",
    "\n",
    "    # Printing the correlation coefficients:\n",
    "#print(x)\n",
    "\n",
    "    # Creating a scatter plot for visualization\n",
    "plt.scatter(a, b)\n",
    "plt.show()"
   ]
  },
  {
   "cell_type": "code",
   "execution_count": null,
   "id": "9d229612",
   "metadata": {},
   "outputs": [],
   "source": [
    "# As we can see, the graph has an upwards trajectory. \n",
    "# This means that we have a positive numpy correlation between our data points."
   ]
  },
  {
   "cell_type": "markdown",
   "id": "7db670b3",
   "metadata": {},
   "source": [
    "# causation"
   ]
  },
  {
   "cell_type": "code",
   "execution_count": null,
   "id": "846e8aad",
   "metadata": {},
   "outputs": [],
   "source": [
    "# it provides various statistical metthods for casual analysis"
   ]
  },
  {
   "cell_type": "markdown",
   "id": "60b26116",
   "metadata": {},
   "source": [
    "# types of causation"
   ]
  },
  {
   "cell_type": "code",
   "execution_count": 8,
   "id": "1dce3dc8",
   "metadata": {},
   "outputs": [],
   "source": [
    "# 1. absolute causality\n",
    "# 2. conditional causality\n",
    "# 3. contributory causality"
   ]
  },
  {
   "cell_type": "code",
   "execution_count": null,
   "id": "5961bc26",
   "metadata": {},
   "outputs": [],
   "source": []
  },
  {
   "cell_type": "markdown",
   "id": "7b3792b5",
   "metadata": {},
   "source": [
    "# study stack or area plot and when to use em"
   ]
  },
  {
   "cell_type": "code",
   "execution_count": null,
   "id": "888df382",
   "metadata": {},
   "outputs": [],
   "source": [
    "# stack or area plot is used in case of showing the progression by time\n",
    "# that is time series, when ever we are working on time series data and if we are to show the\n",
    "# progression by time we use area chart/plot"
   ]
  },
  {
   "cell_type": "code",
   "execution_count": null,
   "id": "32da0763",
   "metadata": {},
   "outputs": [],
   "source": []
  },
  {
   "cell_type": "code",
   "execution_count": 27,
   "id": "f6926419",
   "metadata": {},
   "outputs": [],
   "source": [
    "import matplotlib.pyplot as plt\n",
    "%matplotlib inline "
   ]
  },
  {
   "cell_type": "code",
   "execution_count": 28,
   "id": "6efed141",
   "metadata": {},
   "outputs": [],
   "source": [
    "week = [1,2,3,4,5]\n",
    "\n",
    "shift1 =[40,35,26,23,20]\n",
    "shift2 =[40,32,40,45,50]\n",
    "shift3 =[40,45,35,42,40]\n"
   ]
  },
  {
   "cell_type": "code",
   "execution_count": 34,
   "id": "3e6a891c",
   "metadata": {},
   "outputs": [
    {
     "data": {
      "text/plain": [
       "<matplotlib.legend.Legend at 0x1700e90ec10>"
      ]
     },
     "execution_count": 34,
     "metadata": {},
     "output_type": "execute_result"
    },
    {
     "data": {
      "image/png": "[encoded data removed]",
      "text/plain": [
       "<Figure size 640x480 with 1 Axes>"
      ]
     },
     "metadata": {},
     "output_type": "display_data"
    }
   ],
   "source": [
    "plt.stackplot(week, shift1, shift2, shift3, labels=['shift1', 'shift2', 'shift3'])\n",
    "plt.legend()"
   ]
  },
  {
   "cell_type": "code",
   "execution_count": null,
   "id": "69db6a72",
   "metadata": {},
   "outputs": [],
   "source": []
  },
  {
   "cell_type": "markdown",
   "id": "8118cfcf",
   "metadata": {},
   "source": [
    "# study sub plot and when to use em"
   ]
  },
  {
   "cell_type": "code",
   "execution_count": 47,
   "id": "ee5c6b92",
   "metadata": {},
   "outputs": [
    {
     "name": "stderr",
     "output_type": "stream",
     "text": [
      "C:\\Users\\USER\\AppData\\Local\\Temp\\ipykernel_10384\\3661486947.py:20: MatplotlibDeprecationWarning: Auto-removal of overlapping axes is deprecated since 3.6 and will be removed two minor releases later; explicitly call ax.remove() as needed.\n",
      "  plt.subplot(2,2,3)\n",
      "C:\\Users\\USER\\AppData\\Local\\Temp\\ipykernel_10384\\3661486947.py:28: MatplotlibDeprecationWarning: Auto-removal of overlapping axes is deprecated since 3.6 and will be removed two minor releases later; explicitly call ax.remove() as needed.\n",
      "  plt.subplot(2,2,4)\n"
     ]
    },
    {
     "data": {
      "image/png": "[encoded data removed]",
      "text/plain": [
       "<Figure size 640x480 with 2 Axes>"
      ]
     },
     "metadata": {},
     "output_type": "display_data"
    }
   ],
   "source": [
    "import matplotlib.pyplot as plt\n",
    "\n",
    "x = [1,2,3,4,5]\n",
    "y= [18,37,57,39,58]\n",
    "plt.subplot(1,2,1)\n",
    "plt.plot(x,y)\n",
    "\n",
    "plt.title(\"day1\")\n",
    "\n",
    "x= [1,2,3,4,5]\n",
    "y=[10,40,20,40,50]\n",
    "plt.subplot(1,2,2)\n",
    "\n",
    "plt.bar(x,y) # for bar chart\n",
    "\n",
    "plt.title(\"day2\")\n",
    "\n",
    "x2= [1,2,3,4,5]\n",
    "y2=[10,30,10,40,30]\n",
    "plt.subplot(2,2,3)\n",
    "\n",
    "plt.plot(x,y)\n",
    "plt.title(\"day3\")\n",
    "\n",
    "\n",
    "x1= [1,2,3,4,5]\n",
    "y1=[37,46,38,49,10]\n",
    "plt.subplot(2,2,4)\n",
    "\n",
    "plt.plot(x,y)\n",
    "\n",
    "plt.title(\"day4\")\n",
    "\n",
    "plt.show()"
   ]
  },
  {
   "cell_type": "code",
   "execution_count": null,
   "id": "7a081e98",
   "metadata": {},
   "outputs": [],
   "source": []
  }
 ],
 "metadata": {
  "kernelspec": {
   "display_name": "Python 3 (ipykernel)",
   "language": "python",
   "name": "python3"
  },
  "language_info": {
   "codemirror_mode": {
    "name": "ipython",
    "version": 3
   },
   "file_extension": ".py",
   "mimetype": "text/x-python",
   "name": "python",
   "nbconvert_exporter": "python",
   "pygments_lexer": "ipython3",
   "version": "3.11.4"
  }
 },
 "nbformat": 4,
 "nbformat_minor": 5
}
